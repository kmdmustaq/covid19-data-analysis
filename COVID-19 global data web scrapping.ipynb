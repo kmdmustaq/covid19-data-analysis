{
 "cells": [
  {
   "cell_type": "code",
   "execution_count": 1,
   "metadata": {
    "scrolled": true
   },
   "outputs": [],
   "source": [
    "# Required packages\n",
    "import requests \n",
    "from bs4 import BeautifulSoup \n",
    "import pandas as pd\n",
    "import re\n",
    "\n",
    "# Url for the global covid19 data\n",
    "URL = \"https://www.worldometers.info/coronavirus/\"\n",
    "r = requests.get(URL)\n",
    "\n",
    "# Getting the html source code from the above request \"r\"\n",
    "soup = BeautifulSoup(r.content, 'html5lib')\n",
    "# Retriving the table element with attirbute 'id' = 'main_table_countries_today'\n",
    "table = soup.find('table', attrs = {'id': 'main_table_countries_today'})\n"
   ]
  },
  {
   "cell_type": "code",
   "execution_count": 2,
   "metadata": {},
   "outputs": [],
   "source": [
    "heads = []\n",
    "# Getting all the table header elements and listing them in to a list.\n",
    "for th in table.findAll('th'):\n",
    "    heads.append(th.text)"
   ]
  },
  {
   "cell_type": "code",
   "execution_count": 3,
   "metadata": {},
   "outputs": [
    {
     "data": {
      "text/plain": [
       "['Country,Other',\n",
       " 'TotalCases',\n",
       " 'NewCases',\n",
       " 'TotalDeaths',\n",
       " 'NewDeaths',\n",
       " 'TotalRecovered',\n",
       " 'ActiveCases',\n",
       " 'Serious,Critical',\n",
       " 'Tot\\xa0Cases/1M pop',\n",
       " 'Deaths/1M pop',\n",
       " 'TotalTests',\n",
       " 'Tests/\\n1M pop\\n ',\n",
       " 'Continent']"
      ]
     },
     "execution_count": 3,
     "metadata": {},
     "output_type": "execute_result"
    }
   ],
   "source": [
    "# Heading of the table\n",
    "heads"
   ]
  },
  {
   "cell_type": "code",
   "execution_count": 4,
   "metadata": {},
   "outputs": [],
   "source": [
    "# Creating empty data frame with heads as column names\n",
    "# df = pd.DataFrame(columns = heads)"
   ]
  },
  {
   "cell_type": "code",
   "execution_count": 5,
   "metadata": {},
   "outputs": [
    {
     "data": {
      "text/plain": [
       "{'Country,Other': [],\n",
       " 'TotalCases': [],\n",
       " 'NewCases': [],\n",
       " 'TotalDeaths': [],\n",
       " 'NewDeaths': [],\n",
       " 'TotalRecovered': [],\n",
       " 'ActiveCases': [],\n",
       " 'Serious,Critical': [],\n",
       " 'Tot\\xa0Cases/1M pop': [],\n",
       " 'Deaths/1M pop': [],\n",
       " 'TotalTests': [],\n",
       " 'Tests/\\n1M pop\\n ': [],\n",
       " 'Continent': []}"
      ]
     },
     "execution_count": 5,
     "metadata": {},
     "output_type": "execute_result"
    }
   ],
   "source": [
    "# Creating empty dictionary with heads as keys\n",
    "\n",
    "data = {key:[] for key in heads}\n",
    "data"
   ]
  },
  {
   "cell_type": "code",
   "execution_count": 6,
   "metadata": {},
   "outputs": [],
   "source": [
    "# Getting tbody elments with its childs\n",
    "for tbody in table.findAll('tbody'):\n",
    "    # Getting all tr elements from tbody element.\n",
    "    for tr in tbody.findAll('tr', style=''):\n",
    "        # Getting text content from tr>td elements and splitting it by new line (\\n) character\n",
    "        row = tr.text.split('\\n')\n",
    "        # Removing the spaces present in the first and last positions of the list\n",
    "        row = row[1:-1]\n",
    "        \n",
    "        # Storing the above row values into the data dictionary \n",
    "        for k in range(len(heads)):\n",
    "            if k in range(1,12):\n",
    "                # Using Regex to retrive only numbers. \n",
    "                data[heads[k]].append(''.join(re.split('[^0-9]*',  row[k])))\n",
    "            else:\n",
    "                data[heads[k]].append(row[k])"
   ]
  },
  {
   "cell_type": "code",
   "execution_count": 7,
   "metadata": {},
   "outputs": [
    {
     "data": {
      "text/html": [
       "<div>\n",
       "<style scoped>\n",
       "    .dataframe tbody tr th:only-of-type {\n",
       "        vertical-align: middle;\n",
       "    }\n",
       "\n",
       "    .dataframe tbody tr th {\n",
       "        vertical-align: top;\n",
       "    }\n",
       "\n",
       "    .dataframe thead th {\n",
       "        text-align: right;\n",
       "    }\n",
       "</style>\n",
       "<table border=\"1\" class=\"dataframe\">\n",
       "  <thead>\n",
       "    <tr style=\"text-align: right;\">\n",
       "      <th></th>\n",
       "      <th>Country,Other</th>\n",
       "      <th>TotalCases</th>\n",
       "      <th>NewCases</th>\n",
       "      <th>TotalDeaths</th>\n",
       "      <th>NewDeaths</th>\n",
       "      <th>TotalRecovered</th>\n",
       "      <th>ActiveCases</th>\n",
       "      <th>Serious,Critical</th>\n",
       "      <th>Tot Cases/1M pop</th>\n",
       "      <th>Deaths/1M pop</th>\n",
       "      <th>TotalTests</th>\n",
       "      <th>Tests/\\n1M pop\\n</th>\n",
       "      <th>Continent</th>\n",
       "    </tr>\n",
       "  </thead>\n",
       "  <tbody>\n",
       "    <tr>\n",
       "      <td>0</td>\n",
       "      <td>World</td>\n",
       "      <td>2408352</td>\n",
       "      <td>1777</td>\n",
       "      <td>165107</td>\n",
       "      <td>76</td>\n",
       "      <td>629101</td>\n",
       "      <td>1614144</td>\n",
       "      <td>54215</td>\n",
       "      <td>309</td>\n",
       "      <td>212</td>\n",
       "      <td></td>\n",
       "      <td></td>\n",
       "      <td>All</td>\n",
       "    </tr>\n",
       "    <tr>\n",
       "      <td>1</td>\n",
       "      <td>USA</td>\n",
       "      <td>764265</td>\n",
       "      <td></td>\n",
       "      <td>40565</td>\n",
       "      <td></td>\n",
       "      <td>71012</td>\n",
       "      <td>652688</td>\n",
       "      <td>13566</td>\n",
       "      <td>2309</td>\n",
       "      <td>123</td>\n",
       "      <td>3861596</td>\n",
       "      <td>11666</td>\n",
       "      <td>North America</td>\n",
       "    </tr>\n",
       "    <tr>\n",
       "      <td>2</td>\n",
       "      <td>Spain</td>\n",
       "      <td>198674</td>\n",
       "      <td></td>\n",
       "      <td>20453</td>\n",
       "      <td></td>\n",
       "      <td>77357</td>\n",
       "      <td>100864</td>\n",
       "      <td>7371</td>\n",
       "      <td>4249</td>\n",
       "      <td>437</td>\n",
       "      <td>930230</td>\n",
       "      <td>19896</td>\n",
       "      <td>Europe</td>\n",
       "    </tr>\n",
       "    <tr>\n",
       "      <td>3</td>\n",
       "      <td>Italy</td>\n",
       "      <td>178972</td>\n",
       "      <td></td>\n",
       "      <td>23660</td>\n",
       "      <td></td>\n",
       "      <td>47055</td>\n",
       "      <td>108257</td>\n",
       "      <td>2635</td>\n",
       "      <td>2960</td>\n",
       "      <td>391</td>\n",
       "      <td>1356541</td>\n",
       "      <td>22436</td>\n",
       "      <td>Europe</td>\n",
       "    </tr>\n",
       "    <tr>\n",
       "      <td>4</td>\n",
       "      <td>France</td>\n",
       "      <td>152894</td>\n",
       "      <td></td>\n",
       "      <td>19718</td>\n",
       "      <td></td>\n",
       "      <td>36578</td>\n",
       "      <td>96598</td>\n",
       "      <td>5744</td>\n",
       "      <td>2342</td>\n",
       "      <td>302</td>\n",
       "      <td>463662</td>\n",
       "      <td>7103</td>\n",
       "      <td>Europe</td>\n",
       "    </tr>\n",
       "  </tbody>\n",
       "</table>\n",
       "</div>"
      ],
      "text/plain": [
       "  Country,Other TotalCases NewCases TotalDeaths NewDeaths TotalRecovered  \\\n",
       "0         World    2408352     1777      165107        76         629101   \n",
       "1           USA     764265                40565                    71012   \n",
       "2         Spain     198674                20453                    77357   \n",
       "3         Italy     178972                23660                    47055   \n",
       "4        France     152894                19718                    36578   \n",
       "\n",
       "  ActiveCases Serious,Critical Tot Cases/1M pop Deaths/1M pop TotalTests  \\\n",
       "0     1614144            54215              309           212              \n",
       "1      652688            13566             2309           123    3861596   \n",
       "2      100864             7371             4249           437     930230   \n",
       "3      108257             2635             2960           391    1356541   \n",
       "4       96598             5744             2342           302     463662   \n",
       "\n",
       "  Tests/\\n1M pop\\n       Continent  \n",
       "0                              All  \n",
       "1             11666  North America  \n",
       "2             19896         Europe  \n",
       "3             22436         Europe  \n",
       "4              7103         Europe  "
      ]
     },
     "execution_count": 7,
     "metadata": {},
     "output_type": "execute_result"
    }
   ],
   "source": [
    "# Creating a dataframe with above created data dictionary\n",
    "df = pd.DataFrame(data)\n",
    "df.head()"
   ]
  },
  {
   "cell_type": "code",
   "execution_count": 8,
   "metadata": {},
   "outputs": [],
   "source": [
    "# Creating a csv file with the above dataset for further analysis\n",
    "df.to_csv('./global.csv', index=False)"
   ]
  }
 ],
 "metadata": {
  "kernelspec": {
   "display_name": "Python 3",
   "language": "python",
   "name": "python3"
  },
  "language_info": {
   "codemirror_mode": {
    "name": "ipython",
    "version": 3
   },
   "file_extension": ".py",
   "mimetype": "text/x-python",
   "name": "python",
   "nbconvert_exporter": "python",
   "pygments_lexer": "ipython3",
   "version": "3.7.4"
  }
 },
 "nbformat": 4,
 "nbformat_minor": 2
}
